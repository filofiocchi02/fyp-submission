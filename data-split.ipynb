{
 "cells": [
  {
   "cell_type": "markdown",
   "id": "1cabdb54",
   "metadata": {},
   "source": [
    "# Splitting Data"
   ]
  },
  {
   "cell_type": "markdown",
   "id": "1c15c602",
   "metadata": {},
   "source": [
    "For consistency across different jupyter notebooks, we pre-generate train and test set a priori and save them as .pkl files"
   ]
  },
  {
   "cell_type": "code",
   "execution_count": 1,
   "id": "bfb14576",
   "metadata": {},
   "outputs": [],
   "source": [
    "import pandas as pd\n",
    "from sklearn.model_selection import train_test_split\n",
    "\n",
    "from constants import *"
   ]
  },
  {
   "cell_type": "code",
   "execution_count": 2,
   "id": "a70c93fc",
   "metadata": {},
   "outputs": [],
   "source": [
    "def train_test_split_by_turbine(group, test_size=0.2):\n",
    "    train_set, test_set = train_test_split(group, test_size=test_size, random_state=42)\n",
    "    return train_set, test_set"
   ]
  },
  {
   "cell_type": "code",
   "execution_count": 4,
   "id": "0676c713",
   "metadata": {},
   "outputs": [],
   "source": [
    "file_path = DATA_PATH + '/cleaned/full.pkl'\n",
    "df_full = pd.read_pickle(file_path)"
   ]
  },
  {
   "cell_type": "code",
   "execution_count": 14,
   "id": "7e30eee8",
   "metadata": {},
   "outputs": [
    {
     "data": {
      "text/plain": [
       "(1018494, 110)"
      ]
     },
     "execution_count": 14,
     "metadata": {},
     "output_type": "execute_result"
    }
   ],
   "source": [
    "df_full.shape"
   ]
  },
  {
   "attachments": {},
   "cell_type": "markdown",
   "id": "5b1ffd80",
   "metadata": {},
   "source": [
    "Split the data to have the same proportion of data point from all turbines in both train and test sets."
   ]
  },
  {
   "cell_type": "code",
   "execution_count": 5,
   "id": "f813bc8b",
   "metadata": {},
   "outputs": [
    {
     "name": "stdout",
     "output_type": "stream",
     "text": [
      "Total data points before removing NaNs:  1018494\n",
      "Total data points after removing NaNs:  1009707\n"
     ]
    },
    {
     "name": "stderr",
     "output_type": "stream",
     "text": [
      "/tmp/ipykernel_5192/3273091310.py:7: DeprecationWarning: DataFrameGroupBy.apply operated on the grouping columns. This behavior is deprecated, and in a future version of pandas the grouping columns will be excluded from the operation. Either pass `include_groups=False` to exclude the groupings or explicitly select the grouping columns after groupby to silence this warning.\n",
      "  splits = df.groupby('turbine').apply(train_test_split_by_turbine)\n"
     ]
    },
    {
     "name": "stdout",
     "output_type": "stream",
     "text": [
      "Full Training Set Size:  807764\n",
      "Full Testing Set Size:  201943\n",
      "Preprocessed datasets saved successfully.\n"
     ]
    }
   ],
   "source": [
    "df = df_full\n",
    "print(f\"Total data points before removing NaNs: \", len(df))\n",
    "df = df.dropna(subset=FEATURES + [OUTPUT_FEATURE] + [DATETIME_COL])\n",
    "print(f\"Total data points after removing NaNs: \", len(df))\n",
    "df = df.reset_index(drop=False)\n",
    "\n",
    "splits = df.groupby('turbine').apply(train_test_split_by_turbine)\n",
    "\n",
    "df_full_train = pd.concat([split[0] for split in splits.tolist()])\n",
    "df_full_train.reset_index(drop=True, inplace=True)\n",
    "df_full_test = pd.concat([split[1] for split in splits.tolist()])\n",
    "df_full_test.reset_index(drop=True, inplace=True)\n",
    "print(\"Full Training Set Size: \", df_full_train.shape[0])\n",
    "print(\"Full Testing Set Size: \", df_full_test.shape[0])\n",
    "\n",
    "df_full_train.to_pickle(DATA_PATH + '/cleaned/train.pkl')\n",
    "df_full_test.to_pickle(DATA_PATH + '/cleaned/test.pkl')\n",
    "\n",
    "print(\"Preprocessed datasets saved successfully.\")"
   ]
  },
  {
   "cell_type": "code",
   "execution_count": 16,
   "id": "243bc4bd",
   "metadata": {},
   "outputs": [
    {
     "data": {
      "text/html": [
       "<div>\n",
       "<style scoped>\n",
       "    .dataframe tbody tr th:only-of-type {\n",
       "        vertical-align: middle;\n",
       "    }\n",
       "\n",
       "    .dataframe tbody tr th {\n",
       "        vertical-align: top;\n",
       "    }\n",
       "\n",
       "    .dataframe thead th {\n",
       "        text-align: right;\n",
       "    }\n",
       "</style>\n",
       "<table border=\"1\" class=\"dataframe\">\n",
       "  <thead>\n",
       "    <tr style=\"text-align: right;\">\n",
       "      <th></th>\n",
       "      <th>index</th>\n",
       "      <th>Date.time</th>\n",
       "      <th>Power.me</th>\n",
       "      <th>Power.sd</th>\n",
       "      <th>Power.min</th>\n",
       "      <th>Power.max</th>\n",
       "      <th>Pot.Power.me</th>\n",
       "      <th>Wind.speed.me</th>\n",
       "      <th>Wind.speed.sd</th>\n",
       "      <th>Wind.speed.min</th>\n",
       "      <th>...</th>\n",
       "      <th>Blade.ang.pitch.pos.C.sd</th>\n",
       "      <th>Blade.ang.pitch.pos.C.min</th>\n",
       "      <th>Blade.ang.pitch.pos.C.max</th>\n",
       "      <th>Gear.oil.inlet.press.me</th>\n",
       "      <th>Gear.oil.pump.press.me</th>\n",
       "      <th>Drive.train.acceleration.me</th>\n",
       "      <th>Tower.Acceleration.x</th>\n",
       "      <th>Tower.Acceleration.y</th>\n",
       "      <th>turbine</th>\n",
       "      <th>year</th>\n",
       "    </tr>\n",
       "  </thead>\n",
       "  <tbody>\n",
       "    <tr>\n",
       "      <th>0</th>\n",
       "      <td>153867</td>\n",
       "      <td>2020-09-30 03:50:00</td>\n",
       "      <td>385.860034</td>\n",
       "      <td>56.342456</td>\n",
       "      <td>295.566345</td>\n",
       "      <td>449.544281</td>\n",
       "      <td>338.067980</td>\n",
       "      <td>5.715419</td>\n",
       "      <td>0.447950</td>\n",
       "      <td>4.893880</td>\n",
       "      <td>...</td>\n",
       "      <td>0.000000</td>\n",
       "      <td>0.0</td>\n",
       "      <td>0.0</td>\n",
       "      <td>89.851377</td>\n",
       "      <td>376.600291</td>\n",
       "      <td>4.389306</td>\n",
       "      <td>26.209076</td>\n",
       "      <td>14.347769</td>\n",
       "      <td>1</td>\n",
       "      <td>2020</td>\n",
       "    </tr>\n",
       "    <tr>\n",
       "      <th>1</th>\n",
       "      <td>88280</td>\n",
       "      <td>2019-06-29 01:30:00</td>\n",
       "      <td>75.980338</td>\n",
       "      <td>26.151646</td>\n",
       "      <td>25.224880</td>\n",
       "      <td>135.335602</td>\n",
       "      <td>25.878889</td>\n",
       "      <td>3.079444</td>\n",
       "      <td>0.437013</td>\n",
       "      <td>2.102080</td>\n",
       "      <td>...</td>\n",
       "      <td>0.341673</td>\n",
       "      <td>0.0</td>\n",
       "      <td>1.0</td>\n",
       "      <td>75.669812</td>\n",
       "      <td>355.064588</td>\n",
       "      <td>6.624571</td>\n",
       "      <td>84.897789</td>\n",
       "      <td>33.753158</td>\n",
       "      <td>1</td>\n",
       "      <td>2019</td>\n",
       "    </tr>\n",
       "    <tr>\n",
       "      <th>2</th>\n",
       "      <td>49198</td>\n",
       "      <td>2018-09-03 00:00:00</td>\n",
       "      <td>262.332092</td>\n",
       "      <td>4.282705</td>\n",
       "      <td>252.990280</td>\n",
       "      <td>274.033264</td>\n",
       "      <td>260.394271</td>\n",
       "      <td>5.297819</td>\n",
       "      <td>0.396049</td>\n",
       "      <td>4.433159</td>\n",
       "      <td>...</td>\n",
       "      <td>NaN</td>\n",
       "      <td>NaN</td>\n",
       "      <td>NaN</td>\n",
       "      <td>80.716408</td>\n",
       "      <td>380.343781</td>\n",
       "      <td>3.440585</td>\n",
       "      <td>8.381617</td>\n",
       "      <td>7.973517</td>\n",
       "      <td>1</td>\n",
       "      <td>2018</td>\n",
       "    </tr>\n",
       "    <tr>\n",
       "      <th>3</th>\n",
       "      <td>182807</td>\n",
       "      <td>2021-04-21 07:30:00</td>\n",
       "      <td>693.568533</td>\n",
       "      <td>241.455054</td>\n",
       "      <td>262.049866</td>\n",
       "      <td>1142.049316</td>\n",
       "      <td>529.457246</td>\n",
       "      <td>6.545107</td>\n",
       "      <td>1.369241</td>\n",
       "      <td>3.045797</td>\n",
       "      <td>...</td>\n",
       "      <td>0.000000</td>\n",
       "      <td>0.0</td>\n",
       "      <td>0.0</td>\n",
       "      <td>125.330433</td>\n",
       "      <td>484.002443</td>\n",
       "      <td>7.685233</td>\n",
       "      <td>40.745541</td>\n",
       "      <td>31.793805</td>\n",
       "      <td>1</td>\n",
       "      <td>2021</td>\n",
       "    </tr>\n",
       "    <tr>\n",
       "      <th>4</th>\n",
       "      <td>8230</td>\n",
       "      <td>2017-11-21 04:10:00</td>\n",
       "      <td>1747.494141</td>\n",
       "      <td>240.466431</td>\n",
       "      <td>1200.684692</td>\n",
       "      <td>2095.986084</td>\n",
       "      <td>1712.140026</td>\n",
       "      <td>9.802714</td>\n",
       "      <td>1.107425</td>\n",
       "      <td>8.151685</td>\n",
       "      <td>...</td>\n",
       "      <td>NaN</td>\n",
       "      <td>NaN</td>\n",
       "      <td>NaN</td>\n",
       "      <td>204.658890</td>\n",
       "      <td>739.837952</td>\n",
       "      <td>155.046234</td>\n",
       "      <td>74.603737</td>\n",
       "      <td>48.718048</td>\n",
       "      <td>1</td>\n",
       "      <td>2017</td>\n",
       "    </tr>\n",
       "  </tbody>\n",
       "</table>\n",
       "<p>5 rows × 111 columns</p>\n",
       "</div>"
      ],
      "text/plain": [
       "    index           Date.time     Power.me    Power.sd    Power.min  \\\n",
       "0  153867 2020-09-30 03:50:00   385.860034   56.342456   295.566345   \n",
       "1   88280 2019-06-29 01:30:00    75.980338   26.151646    25.224880   \n",
       "2   49198 2018-09-03 00:00:00   262.332092    4.282705   252.990280   \n",
       "3  182807 2021-04-21 07:30:00   693.568533  241.455054   262.049866   \n",
       "4    8230 2017-11-21 04:10:00  1747.494141  240.466431  1200.684692   \n",
       "\n",
       "     Power.max  Pot.Power.me  Wind.speed.me  Wind.speed.sd  Wind.speed.min  \\\n",
       "0   449.544281    338.067980       5.715419       0.447950        4.893880   \n",
       "1   135.335602     25.878889       3.079444       0.437013        2.102080   \n",
       "2   274.033264    260.394271       5.297819       0.396049        4.433159   \n",
       "3  1142.049316    529.457246       6.545107       1.369241        3.045797   \n",
       "4  2095.986084   1712.140026       9.802714       1.107425        8.151685   \n",
       "\n",
       "   ...  Blade.ang.pitch.pos.C.sd  Blade.ang.pitch.pos.C.min  \\\n",
       "0  ...                  0.000000                        0.0   \n",
       "1  ...                  0.341673                        0.0   \n",
       "2  ...                       NaN                        NaN   \n",
       "3  ...                  0.000000                        0.0   \n",
       "4  ...                       NaN                        NaN   \n",
       "\n",
       "   Blade.ang.pitch.pos.C.max  Gear.oil.inlet.press.me  Gear.oil.pump.press.me  \\\n",
       "0                        0.0                89.851377              376.600291   \n",
       "1                        1.0                75.669812              355.064588   \n",
       "2                        NaN                80.716408              380.343781   \n",
       "3                        0.0               125.330433              484.002443   \n",
       "4                        NaN               204.658890              739.837952   \n",
       "\n",
       "   Drive.train.acceleration.me  Tower.Acceleration.x  Tower.Acceleration.y  \\\n",
       "0                     4.389306             26.209076             14.347769   \n",
       "1                     6.624571             84.897789             33.753158   \n",
       "2                     3.440585              8.381617              7.973517   \n",
       "3                     7.685233             40.745541             31.793805   \n",
       "4                   155.046234             74.603737             48.718048   \n",
       "\n",
       "   turbine  year  \n",
       "0        1  2020  \n",
       "1        1  2019  \n",
       "2        1  2018  \n",
       "3        1  2021  \n",
       "4        1  2017  \n",
       "\n",
       "[5 rows x 111 columns]"
      ]
     },
     "execution_count": 16,
     "metadata": {},
     "output_type": "execute_result"
    }
   ],
   "source": [
    "df_full_test.head()"
   ]
  }
 ],
 "metadata": {
  "kernelspec": {
   "display_name": "Python 3 (ipykernel)",
   "language": "python",
   "name": "python3"
  },
  "language_info": {
   "codemirror_mode": {
    "name": "ipython",
    "version": 3
   },
   "file_extension": ".py",
   "mimetype": "text/x-python",
   "name": "python",
   "nbconvert_exporter": "python",
   "pygments_lexer": "ipython3",
   "version": "3.9.18"
  }
 },
 "nbformat": 4,
 "nbformat_minor": 5
}
