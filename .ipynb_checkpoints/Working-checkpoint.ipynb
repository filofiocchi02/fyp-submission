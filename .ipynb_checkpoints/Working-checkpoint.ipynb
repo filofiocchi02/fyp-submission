{
 "cells": [
  {
   "cell_type": "code",
   "execution_count": 1,
   "id": "4422d1d6",
   "metadata": {},
   "outputs": [],
   "source": [
    "import pickle\n",
    "import pandas as pd\n",
    "import matplotlib.pyplot as plt\n",
    "import numpy as np\n",
    "\n",
    "from sklearn.datasets import make_friedman2\n",
    "from sklearn.gaussian_process.kernels import DotProduct, WhiteKernel, RBF, Matern, RationalQuadratic, ExpSineSquared\n",
    "from sklearn.model_selection import train_test_split, GridSearchCV\n",
    "from sklearn.preprocessing import StandardScaler, PowerTransformer, QuantileTransformer\n",
    "from sklearn.gaussian_process import GaussianProcessRegressor\n",
    "from sklearn.linear_model import LinearRegression\n",
    "from sklearn.tree import DecisionTreeRegressor\n",
    "from sklearn.metrics import mean_absolute_error, mean_squared_error\n",
    "from sklearn.pipeline import Pipeline\n",
    "from math import sqrt\n",
    "\n",
    "from tensorflow.keras.layers import Attention, Input, Conv1D, MaxPooling1D, LSTM, Dense, Flatten, BatchNormalization, Concatenate\n",
    "from tensorflow.keras.models import Model\n",
    "from tensorflow.keras.callbacks import EarlyStopping\n",
    "\n",
    "from keras.layers import Input, Dense, Dropout\n",
    "from keras.models import Model, Sequential\n",
    "from tensorflow.keras.optimizers import RMSprop\n",
    "import tensorflow as tf\n",
    "import tensorflow_probability as tfp\n",
    "from tensorflow_probability import distributions as tfd"
   ]
  },
  {
   "cell_type": "code",
   "execution_count": 2,
   "id": "4f530c12",
   "metadata": {},
   "outputs": [],
   "source": [
    "file_path = 'Cleaned_data.pkl'\n",
    "df = pd.read_pickle(file_path)#.sample(n=10_000_000, random_state=42)"
   ]
  },
  {
   "cell_type": "code",
   "execution_count": 3,
   "id": "bddec201",
   "metadata": {},
   "outputs": [],
   "source": [
    "# Features considered\n",
    "features = [\n",
    "'Wind.speed.me',\n",
    "'Wind.speed.sd',\n",
    "'Front.bearing.temp.me',\n",
    "'Rear.bearing.temp.me',\n",
    "'Stator1.temp.me',\n",
    "'Nacelle.ambient.temp.me',\n",
    "'Nacelle.temp.me',\n",
    "'Transformer.temp.me',\n",
    "'Gear.oil.temp.me',\n",
    "'Gear.oil.temp.me.1',\n",
    "'Top.box.temp.me',\n",
    "'Hub.temp.me',\n",
    "'Conv.Amb.temp.me',\n",
    "'Rotor.bearing.temp.me',\n",
    "'Transformer.cell.temp.me',\n",
    "'Motor.axis1.temp.me',\n",
    "'Motor.axis2.temp.me',\n",
    "'Motor.axis3.temp.me',\n",
    "'CPU.temp.me',\n",
    "'Rotor.speed.me',\n",
    "'Blade.ang.pitch.pos.A.me',\n",
    "'Blade.ang.pitch.pos.B.me',\n",
    "'Blade.ang.pitch.pos.C.me',\n",
    "'Gear.oil.inlet.press.me',\n",
    "'Gear.oil.pump.press.me',\n",
    "'Drive.train.acceleration.me',\n",
    "'Tower.Acceleration.x',\n",
    "'Tower.Acceleration.y'\n",
    "]\n",
    "\n",
    "\n",
    "output_feature = 'Power.me'\n",
    "\n",
    "# Only consider the first turbine\n",
    "df = df[df['turbine'] == 2]\n",
    "\n",
    "df = df.dropna(subset=features + [output_feature])\n",
    "df = df[features + [output_feature]]\n",
    "# df = df.sample(n=100000, random_state=42) "
   ]
  },
  {
   "cell_type": "code",
   "execution_count": 5,
   "id": "b7617fee",
   "metadata": {},
   "outputs": [],
   "source": [
    "from sklearn.model_selection import train_test_split\n",
    "\n",
    "def load_dataset_train_validation_test_split(df, features, output_feature):\n",
    "    # Dataset to train the autoencoder (full dataset)\n",
    "    X = df[features]\n",
    "    y = df[output_feature]\n",
    "\n",
    "    # Split the data into training, validation, and test sets\n",
    "    # First, split into training (70%) and temp (30%)\n",
    "    X_train, X_test, y_train, y_test = train_test_split(X, y, test_size=0.20, random_state=12)\n",
    "\n",
    "    # Standardize both X and y\n",
    "    scaler = StandardScaler()\n",
    "    X_train_scaled = scaler.fit_transform(X_train)\n",
    "    X_test_scaled = scaler.transform(X_test)\n",
    "\n",
    "    return X_train_scaled, X_test_scaled, y_train, y_test"
   ]
  },
  {
   "cell_type": "code",
   "execution_count": 6,
   "id": "4845f3e3",
   "metadata": {},
   "outputs": [],
   "source": [
    "X_train, X_test, y_train, y_test = load_dataset_train_validation_test_split(df, features, output_feature)"
   ]
  },
  {
   "cell_type": "code",
   "execution_count": 7,
   "id": "20916a4c",
   "metadata": {},
   "outputs": [],
   "source": [
    "X_train = X_train.reshape(X_train.shape[0], X_train.shape[1], 1)\n",
    "X_test = X_test.reshape(X_test.shape[0], X_test.shape[1], 1)"
   ]
  },
  {
   "cell_type": "code",
   "execution_count": 55,
   "id": "7068aff5",
   "metadata": {},
   "outputs": [
    {
     "name": "stdout",
     "output_type": "stream",
     "text": [
      "Model: \"sequential_6\"\n",
      "_________________________________________________________________\n",
      " Layer (type)                Output Shape              Param #   \n",
      "=================================================================\n",
      " conv1d_3 (Conv1D)           (115568, 24, 64)          384       \n",
      "                                                                 \n",
      " max_pooling1d_3 (MaxPoolin  (115568, 12, 64)          0         \n",
      " g1D)                                                            \n",
      "                                                                 \n",
      " lstm_3 (LSTM)               (115568, 64)              33024     \n",
      "                                                                 \n",
      " dense_12 (Dense)            (115568, 32)              2080      \n",
      "                                                                 \n",
      " dense_13 (Dense)            (115568, 1)               33        \n",
      "                                                                 \n",
      "=================================================================\n",
      "Total params: 35521 (138.75 KB)\n",
      "Trainable params: 35521 (138.75 KB)\n",
      "Non-trainable params: 0 (0.00 Byte)\n",
      "_________________________________________________________________\n",
      "None\n",
      "Epoch 1/50\n",
      "1626/1626 [==============================] - 18s 10ms/step - loss: 300454.6875 - val_loss: 14743.7295\n",
      "Epoch 2/50\n",
      "1626/1626 [==============================] - 14s 9ms/step - loss: 7586.1865 - val_loss: 3317.4363\n",
      "Epoch 3/50\n",
      "1626/1626 [==============================] - 14s 9ms/step - loss: 3131.7158 - val_loss: 3181.5405\n",
      "Epoch 4/50\n",
      "1626/1626 [==============================] - 15s 9ms/step - loss: 10562.4131 - val_loss: 5543.5752\n",
      "Epoch 5/50\n",
      "1626/1626 [==============================] - 15s 9ms/step - loss: 3462.4604 - val_loss: 3374.3396\n",
      "Epoch 6/50\n",
      "1626/1626 [==============================] - 15s 9ms/step - loss: 2135.9351 - val_loss: 1746.4420\n",
      "Epoch 7/50\n",
      "1626/1626 [==============================] - 15s 9ms/step - loss: 1688.1854 - val_loss: 1422.7811\n",
      "Epoch 8/50\n",
      "1626/1626 [==============================] - 16s 10ms/step - loss: 1496.5737 - val_loss: 1241.3505\n",
      "Epoch 9/50\n",
      "1626/1626 [==============================] - 16s 10ms/step - loss: 1249.1792 - val_loss: 1163.2579\n",
      "Epoch 10/50\n",
      "1626/1626 [==============================] - 16s 10ms/step - loss: 1144.7817 - val_loss: 1244.9778\n",
      "Epoch 11/50\n",
      "1626/1626 [==============================] - 15s 9ms/step - loss: 1087.2389 - val_loss: 1038.4641\n",
      "Epoch 12/50\n",
      "1626/1626 [==============================] - 15s 9ms/step - loss: 1028.2723 - val_loss: 1275.5839\n",
      "Epoch 13/50\n",
      "1626/1626 [==============================] - 15s 9ms/step - loss: 969.7413 - val_loss: 785.5873\n",
      "Epoch 14/50\n",
      "1626/1626 [==============================] - 15s 9ms/step - loss: 950.5171 - val_loss: 793.2623\n",
      "Epoch 15/50\n",
      "1626/1626 [==============================] - 15s 9ms/step - loss: 921.6701 - val_loss: 800.3918\n",
      "Epoch 16/50\n",
      "1626/1626 [==============================] - 15s 9ms/step - loss: 885.8894 - val_loss: 882.4178\n",
      "Epoch 17/50\n",
      "1626/1626 [==============================] - 16s 10ms/step - loss: 898.3334 - val_loss: 1176.6796\n",
      "Epoch 18/50\n",
      "1626/1626 [==============================] - 15s 9ms/step - loss: 855.3148 - val_loss: 762.6987\n",
      "Epoch 19/50\n",
      "1626/1626 [==============================] - 15s 9ms/step - loss: 858.7296 - val_loss: 753.8941\n",
      "Epoch 20/50\n",
      "1626/1626 [==============================] - 18s 11ms/step - loss: 833.6775 - val_loss: 888.7755\n",
      "Epoch 21/50\n",
      "1626/1626 [==============================] - 17s 11ms/step - loss: 824.1044 - val_loss: 734.7285\n",
      "Epoch 22/50\n",
      "1626/1626 [==============================] - 17s 10ms/step - loss: 805.7745 - val_loss: 769.1600\n",
      "Epoch 23/50\n",
      "1626/1626 [==============================] - 17s 10ms/step - loss: 795.2924 - val_loss: 740.1725\n",
      "Epoch 24/50\n",
      "1626/1626 [==============================] - 16s 10ms/step - loss: 813.7164 - val_loss: 854.6522\n",
      "Epoch 25/50\n",
      "1626/1626 [==============================] - 15s 9ms/step - loss: 798.4844 - val_loss: 727.0630\n",
      "Epoch 26/50\n",
      "1626/1626 [==============================] - 15s 9ms/step - loss: 781.2217 - val_loss: 1036.1486\n",
      "Epoch 27/50\n",
      "1626/1626 [==============================] - 15s 9ms/step - loss: 788.3038 - val_loss: 726.2113\n",
      "Epoch 28/50\n",
      "1626/1626 [==============================] - 16s 10ms/step - loss: 767.3622 - val_loss: 679.7839\n",
      "Epoch 29/50\n",
      "1626/1626 [==============================] - 16s 10ms/step - loss: 767.1742 - val_loss: 663.4156\n",
      "Epoch 30/50\n",
      "1626/1626 [==============================] - 16s 10ms/step - loss: 743.0978 - val_loss: 842.4723\n",
      "Epoch 31/50\n",
      "1626/1626 [==============================] - 16s 10ms/step - loss: 756.4764 - val_loss: 774.8231\n",
      "Epoch 32/50\n",
      "1626/1626 [==============================] - 15s 10ms/step - loss: 736.7628 - val_loss: 700.5121\n",
      "Epoch 33/50\n",
      "1626/1626 [==============================] - 15s 9ms/step - loss: 735.3254 - val_loss: 678.2388\n",
      "Epoch 34/50\n",
      "1626/1626 [==============================] - 15s 9ms/step - loss: 729.6791 - val_loss: 678.3527\n",
      "Epoch 35/50\n",
      "1626/1626 [==============================] - 15s 9ms/step - loss: 721.3286 - val_loss: 816.6956\n",
      "Epoch 36/50\n",
      "1626/1626 [==============================] - 15s 9ms/step - loss: 724.7402 - val_loss: 674.9044\n",
      "Epoch 37/50\n",
      "1626/1626 [==============================] - 15s 9ms/step - loss: 725.4083 - val_loss: 837.2596\n",
      "Epoch 38/50\n",
      "1626/1626 [==============================] - 15s 9ms/step - loss: 719.6240 - val_loss: 712.5696\n",
      "Epoch 39/50\n",
      "1626/1626 [==============================] - 17s 10ms/step - loss: 707.9708 - val_loss: 828.4460\n"
     ]
    }
   ],
   "source": [
    "# Define the LSTM model\n",
    "model = Sequential()\n",
    "\n",
    "# Add a Conv1D layer to process spatial features\n",
    "# model.add(Conv1D(filters=64, kernel_size=5, activation='relu', input_shape=(None, X_train.shape[1], 1)))\n",
    "model.add(Conv1D(filters=64, kernel_size=5, activation='relu'))\n",
    "\n",
    "# Optionally, add MaxPooling1D if you want to reduce spatial dimensions further\n",
    "model.add(MaxPooling1D(pool_size=2))\n",
    "\n",
    "# Add an LSTM layer\n",
    "model.add(LSTM(64))  # Specify the input shape\n",
    "\n",
    "# Add one or more Dense layers for prediction\n",
    "model.add(Dense(32, activation='relu'))  # You can adjust the number of units as needed\n",
    "model.add(Dense(1))  # Assuming you are doing regression, change activation for classification\n",
    "\n",
    "# Compile the model\n",
    "model.compile(optimizer='adam', loss='mean_squared_error')  # Adjust the loss function as needed\n",
    "\n",
    "model.build(X_train.shape)\n",
    "print(model.summary())\n",
    "\n",
    "early_stopping = EarlyStopping(\n",
    "    monitor='val_loss',  # Monitor validation loss\n",
    "    patience=10,          # Number of epochs with no improvement after which training will be stopped\n",
    "    restore_best_weights=True  # Restore model weights from the epoch with the best validation loss\n",
    ")\n",
    "\n",
    "# Train the model\n",
    "history = model.fit(X_train,\n",
    "          y_train, batch_size = 64,\n",
    "          epochs=50, \n",
    "          validation_split=0.1,\n",
    "          callbacks=[early_stopping]\n",
    "         )"
   ]
  },
  {
   "cell_type": "code",
   "execution_count": 62,
   "id": "ba036f09",
   "metadata": {},
   "outputs": [
    {
     "data": {
      "text/plain": [
       "(115568, 1)"
      ]
     },
     "execution_count": 62,
     "metadata": {},
     "output_type": "execute_result"
    }
   ],
   "source": [
    "pred_train.shape"
   ]
  },
  {
   "cell_type": "code",
   "execution_count": 63,
   "id": "a6276712",
   "metadata": {},
   "outputs": [
    {
     "data": {
      "text/plain": [
       "(115568,)"
      ]
     },
     "execution_count": 63,
     "metadata": {},
     "output_type": "execute_result"
    }
   ],
   "source": [
    "y_train.shape"
   ]
  },
  {
   "cell_type": "code",
   "execution_count": 64,
   "id": "0801c3b2",
   "metadata": {},
   "outputs": [
    {
     "name": "stdout",
     "output_type": "stream",
     "text": [
      "3612/3612 [==============================] - 11s 3ms/step\n"
     ]
    }
   ],
   "source": [
    "# Make predictions\n",
    "y_pred_train = model.predict(X_train)\n",
    "residuals_train = np.abs(np.squeeze(y_pred_train) - y_train)"
   ]
  },
  {
   "cell_type": "code",
   "execution_count": 65,
   "id": "dc7a1221",
   "metadata": {},
   "outputs": [
    {
     "data": {
      "text/plain": [
       "222624     0.161224\n",
       "351110     0.431518\n",
       "239782    11.088318\n",
       "324747    10.128244\n",
       "241580     4.832214\n",
       "            ...    \n",
       "350164     7.050043\n",
       "280752     9.524537\n",
       "356232    30.622748\n",
       "255025    16.176910\n",
       "258755    10.612671\n",
       "Name: Power.me, Length: 115568, dtype: float64"
      ]
     },
     "execution_count": 65,
     "metadata": {},
     "output_type": "execute_result"
    }
   ],
   "source": [
    "residuals_train"
   ]
  },
  {
   "cell_type": "code",
   "execution_count": 97,
   "id": "eed930b1",
   "metadata": {},
   "outputs": [],
   "source": [
    "def get_variance_model_v1():\n",
    "    variance_model = Sequential()\n",
    "    variance_model.add(Dense(32, activation='relu', input_shape=(X_train_reshaped.shape[1],)))\n",
    "    variance_model.add(Dense(1, activation='softplus'))  # Using 'softplus' to ensure positive values for variance\n",
    "    variance_model.compile(optimizer='adam', loss='mean_squared_error')  # You can use a custom loss function if needed\n",
    "    return variance_model"
   ]
  },
  {
   "cell_type": "code",
   "execution_count": 98,
   "id": "c3984b9d",
   "metadata": {},
   "outputs": [],
   "source": [
    "def get_variance_model_v2():\n",
    "    variance_model = Sequential()\n",
    "    variance_model.add(Conv1D(filters=64, kernel_size=5, activation='relu'))\n",
    "    variance_model.add(MaxPooling1D(pool_size=2))\n",
    "    variance_model.add(Flatten())\n",
    "    variance_model.add(Dense(32, activation='relu'))\n",
    "    variance_model.add(Dense(1, activation='softplus'))  # Using 'softplus' to ensure positive values for variance\n",
    "    variance_model.compile(optimizer='adam', loss='mean_squared_error')  # You can use a custom loss function if needed\n",
    "    return variance_model"
   ]
  },
  {
   "cell_type": "code",
   "execution_count": 104,
   "id": "2aaf70a0",
   "metadata": {},
   "outputs": [],
   "source": [
    "def get_variance_model_v3():\n",
    "    variance_model = Sequential()\n",
    "    variance_model.add(Conv1D(filters=64, kernel_size=5, activation='relu'))\n",
    "    variance_model.add(MaxPooling1D(pool_size=2))\n",
    "    variance_model.add(LSTM(64))\n",
    "    variance_model.add(Dense(32, activation='relu'))\n",
    "    variance_model.add(Dense(1, activation='softplus'))  # Using 'softplus' to ensure positive values for variance\n",
    "    variance_model.compile(optimizer='adam', loss='mean_squared_error')  # You can use a custom loss function if needed\n",
    "    return variance_model"
   ]
  },
  {
   "cell_type": "code",
   "execution_count": 95,
   "id": "5f948b18",
   "metadata": {},
   "outputs": [
    {
     "name": "stdout",
     "output_type": "stream",
     "text": [
      "Training MAE: 14.020210491543416\n",
      "Training MSE: 628.8761481477586\n",
      "Training RMSE: 25.077403138039603\n",
      "Test MAE: 14.955061350690498\n",
      "Test MSE: 725.6448809189833\n",
      "Test RMSE: 26.937796511945503\n"
     ]
    }
   ],
   "source": [
    "# Calculate MAE, MSE, and RMSE for training data\n",
    "train_mae = mean_absolute_error(y_train, y_train_pred)\n",
    "train_mse = mean_squared_error(y_train, y_train_pred)\n",
    "train_rmse = np.sqrt(train_mse)\n",
    "\n",
    "# Calculate MAE, MSE, and RMSE for test data\n",
    "test_mae = mean_absolute_error(y_test, y_test_pred)\n",
    "test_mse = mean_squared_error(y_test, y_test_pred)\n",
    "test_rmse = np.sqrt(test_mse)\n",
    "\n",
    "# Print the results\n",
    "print(\"Training MAE:\", train_mae)\n",
    "print(\"Training MSE:\", train_mse)\n",
    "print(\"Training RMSE:\", train_rmse)\n",
    "\n",
    "print(\"Test MAE:\", test_mae)\n",
    "print(\"Test MSE:\", test_mse)\n",
    "print(\"Test RMSE:\", test_rmse)"
   ]
  },
  {
   "cell_type": "markdown",
   "id": "d9a16e9c",
   "metadata": {},
   "source": [
    "##### Variance Model n1"
   ]
  },
  {
   "cell_type": "code",
   "execution_count": 110,
   "id": "81d22d61",
   "metadata": {},
   "outputs": [
    {
     "name": "stdout",
     "output_type": "stream",
     "text": [
      "Model: \"sequential_14\"\n",
      "_________________________________________________________________\n",
      " Layer (type)                Output Shape              Param #   \n",
      "=================================================================\n",
      " dense_28 (Dense)            (None, 32)                928       \n",
      "                                                                 \n",
      " dense_29 (Dense)            (None, 1)                 33        \n",
      "                                                                 \n",
      "=================================================================\n",
      "Total params: 961 (3.75 KB)\n",
      "Trainable params: 961 (3.75 KB)\n",
      "Non-trainable params: 0 (0.00 Byte)\n",
      "_________________________________________________________________\n",
      "None\n",
      "Epoch 1/50\n",
      "1626/1626 [==============================] - 2s 1ms/step - loss: 317.0165 - val_loss: 272.2623\n",
      "Epoch 2/50\n",
      "1626/1626 [==============================] - 2s 1ms/step - loss: 267.7267 - val_loss: 268.6072\n",
      "Epoch 3/50\n",
      "1626/1626 [==============================] - 2s 1ms/step - loss: 264.3698 - val_loss: 265.8350\n",
      "Epoch 4/50\n",
      "1626/1626 [==============================] - 2s 1ms/step - loss: 262.0948 - val_loss: 263.8361\n",
      "Epoch 5/50\n",
      "1626/1626 [==============================] - 2s 1ms/step - loss: 260.9019 - val_loss: 262.6125\n",
      "Epoch 6/50\n",
      "1626/1626 [==============================] - 2s 1ms/step - loss: 259.9058 - val_loss: 261.1696\n",
      "Epoch 7/50\n",
      "1626/1626 [==============================] - 2s 1ms/step - loss: 258.9078 - val_loss: 260.4049\n",
      "Epoch 8/50\n",
      "1626/1626 [==============================] - 2s 1ms/step - loss: 258.2982 - val_loss: 260.1066\n",
      "Epoch 9/50\n",
      "1626/1626 [==============================] - 2s 1ms/step - loss: 257.6970 - val_loss: 258.8085\n",
      "Epoch 10/50\n",
      "1626/1626 [==============================] - 2s 1ms/step - loss: 257.0049 - val_loss: 258.2846\n",
      "Epoch 11/50\n",
      "1626/1626 [==============================] - 2s 1ms/step - loss: 256.4401 - val_loss: 257.8564\n",
      "Epoch 12/50\n",
      "1626/1626 [==============================] - 2s 1ms/step - loss: 255.8703 - val_loss: 256.9807\n",
      "Epoch 13/50\n",
      "1626/1626 [==============================] - 2s 1ms/step - loss: 255.4993 - val_loss: 256.5671\n",
      "Epoch 14/50\n",
      "1626/1626 [==============================] - 2s 1ms/step - loss: 255.3224 - val_loss: 256.2893\n",
      "Epoch 15/50\n",
      "1626/1626 [==============================] - 2s 1ms/step - loss: 254.7232 - val_loss: 256.4080\n",
      "Epoch 16/50\n",
      "1626/1626 [==============================] - 2s 1ms/step - loss: 254.4466 - val_loss: 256.3004\n",
      "Epoch 17/50\n",
      "1626/1626 [==============================] - 2s 1ms/step - loss: 254.1808 - val_loss: 256.3724\n",
      "Epoch 18/50\n",
      "1626/1626 [==============================] - 2s 1ms/step - loss: 253.8546 - val_loss: 255.2680\n",
      "Epoch 19/50\n",
      "1626/1626 [==============================] - 3s 2ms/step - loss: 253.6503 - val_loss: 255.3035\n",
      "Epoch 20/50\n",
      "1626/1626 [==============================] - 2s 1ms/step - loss: 253.3387 - val_loss: 254.4972\n",
      "Epoch 21/50\n",
      "1626/1626 [==============================] - 2s 1ms/step - loss: 253.2929 - val_loss: 254.0782\n",
      "Epoch 22/50\n",
      "1626/1626 [==============================] - 2s 1ms/step - loss: 252.9902 - val_loss: 254.2184\n",
      "Epoch 23/50\n",
      "1626/1626 [==============================] - 2s 1ms/step - loss: 253.0204 - val_loss: 253.8125\n",
      "Epoch 24/50\n",
      "1626/1626 [==============================] - 2s 1ms/step - loss: 252.6878 - val_loss: 254.4617\n",
      "Epoch 25/50\n",
      "1626/1626 [==============================] - 2s 1ms/step - loss: 252.5187 - val_loss: 252.8780\n",
      "Epoch 26/50\n",
      "1626/1626 [==============================] - 2s 1ms/step - loss: 252.3282 - val_loss: 252.7794\n",
      "Epoch 27/50\n",
      "1626/1626 [==============================] - 2s 1ms/step - loss: 252.1718 - val_loss: 253.6996\n",
      "Epoch 28/50\n",
      "1626/1626 [==============================] - 2s 1ms/step - loss: 251.9361 - val_loss: 252.8574\n",
      "Epoch 29/50\n",
      "1626/1626 [==============================] - 2s 1ms/step - loss: 251.7544 - val_loss: 254.9801\n",
      "Epoch 30/50\n",
      "1626/1626 [==============================] - 2s 1ms/step - loss: 251.5793 - val_loss: 252.0425\n",
      "Epoch 31/50\n",
      "1626/1626 [==============================] - 2s 1ms/step - loss: 251.4084 - val_loss: 251.4975\n",
      "Epoch 32/50\n",
      "1626/1626 [==============================] - 2s 1ms/step - loss: 251.1370 - val_loss: 251.4967\n",
      "Epoch 33/50\n",
      "1626/1626 [==============================] - 2s 1ms/step - loss: 251.1227 - val_loss: 251.8630\n",
      "Epoch 34/50\n",
      "1626/1626 [==============================] - 2s 1ms/step - loss: 250.8423 - val_loss: 251.5426\n",
      "Epoch 35/50\n",
      "1626/1626 [==============================] - 2s 1ms/step - loss: 250.9107 - val_loss: 250.9744\n",
      "Epoch 36/50\n",
      "1626/1626 [==============================] - 2s 1ms/step - loss: 250.6386 - val_loss: 250.5484\n",
      "Epoch 37/50\n",
      "1626/1626 [==============================] - 2s 1ms/step - loss: 250.4681 - val_loss: 251.0872\n",
      "Epoch 38/50\n",
      "1626/1626 [==============================] - 2s 1ms/step - loss: 250.3168 - val_loss: 250.3543\n",
      "Epoch 39/50\n",
      "1626/1626 [==============================] - 2s 1ms/step - loss: 250.1710 - val_loss: 250.2985\n",
      "Epoch 40/50\n",
      "1626/1626 [==============================] - 2s 1ms/step - loss: 249.9997 - val_loss: 249.8062\n",
      "Epoch 41/50\n",
      "1626/1626 [==============================] - 2s 1ms/step - loss: 249.8787 - val_loss: 250.1723\n",
      "Epoch 42/50\n",
      "1626/1626 [==============================] - 3s 2ms/step - loss: 249.6113 - val_loss: 250.4550\n",
      "Epoch 43/50\n",
      "1626/1626 [==============================] - 2s 1ms/step - loss: 249.6953 - val_loss: 251.0674\n",
      "Epoch 44/50\n",
      "1626/1626 [==============================] - 2s 1ms/step - loss: 249.5389 - val_loss: 249.6982\n",
      "Epoch 45/50\n",
      "1626/1626 [==============================] - 2s 1ms/step - loss: 249.3495 - val_loss: 249.4551\n",
      "Epoch 46/50\n",
      "1626/1626 [==============================] - 2s 1ms/step - loss: 249.2746 - val_loss: 249.2816\n",
      "Epoch 47/50\n",
      "1626/1626 [==============================] - 2s 1ms/step - loss: 248.9244 - val_loss: 250.4824\n",
      "Epoch 48/50\n",
      "1626/1626 [==============================] - 2s 1ms/step - loss: 249.1572 - val_loss: 248.9598\n",
      "Epoch 49/50\n",
      "1626/1626 [==============================] - 2s 2ms/step - loss: 248.8519 - val_loss: 249.7979\n",
      "Epoch 50/50\n",
      "1626/1626 [==============================] - 2s 1ms/step - loss: 248.8031 - val_loss: 248.7998\n"
     ]
    }
   ],
   "source": [
    "X_train_reshaped = X_train.reshape(X_train.shape[0], X_train.shape[1])\n",
    "\n",
    "variance_model = get_variance_model_v1()\n",
    "variance_model.build(X_train_reshaped.shape)\n",
    "print(variance_model.summary())\n",
    "\n",
    "# Train the model\n",
    "history_variance = variance_model.fit(\n",
    "          X_train_reshaped,\n",
    "          residuals_train,\n",
    "          batch_size = 64,\n",
    "          epochs=50, \n",
    "          validation_split=0.1,\n",
    "          callbacks=[early_stopping]\n",
    "         )"
   ]
  },
  {
   "cell_type": "code",
   "execution_count": 88,
   "id": "a0ed96a5",
   "metadata": {},
   "outputs": [
    {
     "name": "stdout",
     "output_type": "stream",
     "text": [
      "903/903 [==============================] - 3s 3ms/step\n",
      "903/903 [==============================] - 1s 835us/step\n"
     ]
    }
   ],
   "source": [
    "# Make predictions of standard deviation on the train data\n",
    "stds_train = variance_model.predict(X_train_reshaped).ravel()\n",
    "# Make predictions of standard deviation on the test data\n",
    "y_test_stds = variance_model.predict(X_test.reshape(X_test.shape[0], X_test.shape[1])).ravel()"
   ]
  },
  {
   "cell_type": "code",
   "execution_count": 91,
   "id": "c92ca570",
   "metadata": {},
   "outputs": [
    {
     "name": "stdout",
     "output_type": "stream",
     "text": [
      "Number of data points within the 95% confidence interval: 23093\n",
      "Percentage of data points within the 95% confidence interval: 79.93%\n"
     ]
    }
   ],
   "source": [
    "# Compute the lower and upper bounds of the 90% confidence interval\n",
    "lower_bounds = y_test_pred - 1.96 * y_test_stds  # 1.645 corresponds to the 5% quantile of the standard normal distribution\n",
    "upper_bounds = y_test_pred + 1.96 * y_test_stds\n",
    "\n",
    "# Assuming true test data points are in an array called y_test_true\n",
    "# Count how many data points are within the confidence interval\n",
    "is_within_interval = np.logical_and(y_test >= lower_bounds, y_test <= upper_bounds)\n",
    "num_within_interval = np.sum(is_within_interval)\n",
    "\n",
    "# Calculate the percentage of data points within the confidence interval\n",
    "percentage_within_interval = (num_within_interval / len(y_test)) * 100\n",
    "\n",
    "# Print the results\n",
    "print(f\"Number of data points within the 95% confidence interval: {num_within_interval}\")\n",
    "print(f\"Percentage of data points within the 95% confidence interval: {percentage_within_interval:.2f}%\")"
   ]
  },
  {
   "cell_type": "markdown",
   "id": "9ac53b25",
   "metadata": {},
   "source": [
    "##### Variance Model n2"
   ]
  },
  {
   "cell_type": "code",
   "execution_count": 100,
   "id": "851b8ba7",
   "metadata": {},
   "outputs": [
    {
     "name": "stdout",
     "output_type": "stream",
     "text": [
      "Model: \"sequential_12\"\n",
      "_________________________________________________________________\n",
      " Layer (type)                Output Shape              Param #   \n",
      "=================================================================\n",
      " conv1d_6 (Conv1D)           (115568, 24, 64)          384       \n",
      "                                                                 \n",
      " max_pooling1d_6 (MaxPoolin  (115568, 12, 64)          0         \n",
      " g1D)                                                            \n",
      "                                                                 \n",
      " flatten_2 (Flatten)         (115568, 768)             0         \n",
      "                                                                 \n",
      " dense_24 (Dense)            (115568, 32)              24608     \n",
      "                                                                 \n",
      " dense_25 (Dense)            (115568, 1)               33        \n",
      "                                                                 \n",
      "=================================================================\n",
      "Total params: 25025 (97.75 KB)\n",
      "Trainable params: 25025 (97.75 KB)\n",
      "Non-trainable params: 0 (0.00 Byte)\n",
      "_________________________________________________________________\n",
      "None\n",
      "Epoch 1/50\n",
      "1626/1626 [==============================] - 6s 3ms/step - loss: 292.0096 - val_loss: 267.9785\n",
      "Epoch 2/50\n",
      "1626/1626 [==============================] - 5s 3ms/step - loss: 264.4556 - val_loss: 262.8939\n",
      "Epoch 3/50\n",
      "1626/1626 [==============================] - 5s 3ms/step - loss: 261.1203 - val_loss: 260.6859\n",
      "Epoch 4/50\n",
      "1626/1626 [==============================] - 5s 3ms/step - loss: 258.7004 - val_loss: 258.8575\n",
      "Epoch 5/50\n",
      "1626/1626 [==============================] - 5s 3ms/step - loss: 257.2482 - val_loss: 256.9652\n",
      "Epoch 6/50\n",
      "1626/1626 [==============================] - 5s 3ms/step - loss: 255.7425 - val_loss: 256.0866\n",
      "Epoch 7/50\n",
      "1626/1626 [==============================] - 5s 3ms/step - loss: 254.4033 - val_loss: 265.8197\n",
      "Epoch 8/50\n",
      "1626/1626 [==============================] - 5s 3ms/step - loss: 254.2826 - val_loss: 253.5201\n",
      "Epoch 9/50\n",
      "1626/1626 [==============================] - 5s 3ms/step - loss: 253.0680 - val_loss: 255.7806\n",
      "Epoch 10/50\n",
      "1626/1626 [==============================] - 5s 3ms/step - loss: 252.6561 - val_loss: 253.0703\n",
      "Epoch 11/50\n",
      "1626/1626 [==============================] - 5s 3ms/step - loss: 252.2323 - val_loss: 254.0629\n",
      "Epoch 12/50\n",
      "1626/1626 [==============================] - 6s 3ms/step - loss: 251.5713 - val_loss: 252.5576\n",
      "Epoch 13/50\n",
      "1626/1626 [==============================] - 5s 3ms/step - loss: 251.3898 - val_loss: 250.6348\n",
      "Epoch 14/50\n",
      "1626/1626 [==============================] - 5s 3ms/step - loss: 250.6329 - val_loss: 250.4410\n",
      "Epoch 15/50\n",
      "1626/1626 [==============================] - 5s 3ms/step - loss: 250.2868 - val_loss: 252.5576\n",
      "Epoch 16/50\n",
      "1626/1626 [==============================] - 5s 3ms/step - loss: 250.1100 - val_loss: 251.1199\n",
      "Epoch 17/50\n",
      "1626/1626 [==============================] - 5s 3ms/step - loss: 249.8382 - val_loss: 254.5197\n",
      "Epoch 18/50\n",
      "1626/1626 [==============================] - 5s 3ms/step - loss: 249.5360 - val_loss: 249.6504\n",
      "Epoch 19/50\n",
      "1626/1626 [==============================] - 5s 3ms/step - loss: 248.7961 - val_loss: 249.4801\n",
      "Epoch 20/50\n",
      "1626/1626 [==============================] - 5s 3ms/step - loss: 248.4575 - val_loss: 248.9002\n",
      "Epoch 21/50\n",
      "1626/1626 [==============================] - 5s 3ms/step - loss: 248.3287 - val_loss: 246.8308\n",
      "Epoch 22/50\n",
      "1626/1626 [==============================] - 5s 3ms/step - loss: 248.3318 - val_loss: 252.9933\n",
      "Epoch 23/50\n",
      "1626/1626 [==============================] - 5s 3ms/step - loss: 247.9788 - val_loss: 246.2941\n",
      "Epoch 24/50\n",
      "1626/1626 [==============================] - 5s 3ms/step - loss: 247.2746 - val_loss: 247.2663\n",
      "Epoch 25/50\n",
      "1626/1626 [==============================] - 5s 3ms/step - loss: 246.8456 - val_loss: 246.2221\n",
      "Epoch 26/50\n",
      "1626/1626 [==============================] - 5s 3ms/step - loss: 246.8399 - val_loss: 248.2559\n",
      "Epoch 27/50\n",
      "1626/1626 [==============================] - 5s 3ms/step - loss: 246.8397 - val_loss: 247.8905\n",
      "Epoch 28/50\n",
      "1626/1626 [==============================] - 5s 3ms/step - loss: 246.5451 - val_loss: 246.3351\n",
      "Epoch 29/50\n",
      "1626/1626 [==============================] - 5s 3ms/step - loss: 246.3515 - val_loss: 246.7230\n",
      "Epoch 30/50\n",
      "1626/1626 [==============================] - 5s 3ms/step - loss: 246.0910 - val_loss: 247.3819\n",
      "Epoch 31/50\n",
      "1626/1626 [==============================] - 5s 3ms/step - loss: 246.2088 - val_loss: 253.0706\n",
      "Epoch 32/50\n",
      "1626/1626 [==============================] - 5s 3ms/step - loss: 246.0345 - val_loss: 246.9313\n",
      "Epoch 33/50\n",
      "1626/1626 [==============================] - 5s 3ms/step - loss: 245.6223 - val_loss: 246.6407\n",
      "Epoch 34/50\n",
      "1626/1626 [==============================] - 5s 3ms/step - loss: 245.4267 - val_loss: 244.6927\n",
      "Epoch 35/50\n",
      "1626/1626 [==============================] - 5s 3ms/step - loss: 245.0875 - val_loss: 245.5945\n",
      "Epoch 36/50\n",
      "1626/1626 [==============================] - 5s 3ms/step - loss: 244.8800 - val_loss: 246.6155\n",
      "Epoch 37/50\n",
      "1626/1626 [==============================] - 5s 3ms/step - loss: 244.5812 - val_loss: 245.1825\n",
      "Epoch 38/50\n",
      "1626/1626 [==============================] - 5s 3ms/step - loss: 244.7657 - val_loss: 245.9467\n",
      "Epoch 39/50\n",
      "1626/1626 [==============================] - 5s 3ms/step - loss: 244.3538 - val_loss: 244.1362\n",
      "Epoch 40/50\n",
      "1626/1626 [==============================] - 5s 3ms/step - loss: 244.1460 - val_loss: 244.4083\n",
      "Epoch 41/50\n",
      "1626/1626 [==============================] - 5s 3ms/step - loss: 244.0727 - val_loss: 244.9489\n",
      "Epoch 42/50\n",
      "1626/1626 [==============================] - 5s 3ms/step - loss: 243.7982 - val_loss: 244.9972\n",
      "Epoch 43/50\n",
      "1626/1626 [==============================] - 5s 3ms/step - loss: 243.9933 - val_loss: 243.8200\n",
      "Epoch 44/50\n",
      "1626/1626 [==============================] - 5s 3ms/step - loss: 243.6427 - val_loss: 249.2901\n",
      "Epoch 45/50\n",
      "1626/1626 [==============================] - 5s 3ms/step - loss: 243.4536 - val_loss: 246.1721\n",
      "Epoch 46/50\n",
      "1626/1626 [==============================] - 6s 3ms/step - loss: 243.3184 - val_loss: 243.5173\n",
      "Epoch 47/50\n",
      "1626/1626 [==============================] - 5s 3ms/step - loss: 243.2050 - val_loss: 245.9107\n",
      "Epoch 48/50\n",
      "1626/1626 [==============================] - 5s 3ms/step - loss: 242.9816 - val_loss: 244.2823\n",
      "Epoch 49/50\n",
      "1626/1626 [==============================] - 5s 3ms/step - loss: 242.9526 - val_loss: 244.9312\n",
      "Epoch 50/50\n",
      "1626/1626 [==============================] - 5s 3ms/step - loss: 243.0516 - val_loss: 243.3875\n"
     ]
    }
   ],
   "source": [
    "X_train_reshaped = X_train\n",
    "\n",
    "variance_model = get_variance_model_v2()\n",
    "variance_model.build(X_train_reshaped.shape)\n",
    "print(variance_model.summary())\n",
    "\n",
    "# Train the model\n",
    "history_variance = variance_model.fit(\n",
    "          X_train_reshaped,\n",
    "          residuals_train,\n",
    "          batch_size = 64,\n",
    "          epochs=50, \n",
    "          validation_split=0.1,\n",
    "          callbacks=[early_stopping]\n",
    "         )"
   ]
  },
  {
   "cell_type": "code",
   "execution_count": 102,
   "id": "64af271d",
   "metadata": {},
   "outputs": [
    {
     "name": "stdout",
     "output_type": "stream",
     "text": [
      "3612/3612 [==============================] - 4s 1ms/step\n",
      "903/903 [==============================] - 1s 1ms/step\n"
     ]
    }
   ],
   "source": [
    "# Make predictions of standard deviation on the train data\n",
    "stds_train = variance_model.predict(X_train_reshaped).ravel()\n",
    "# Make predictions of standard deviation on the test data\n",
    "y_test_stds = variance_model.predict(X_test).ravel()"
   ]
  },
  {
   "cell_type": "code",
   "execution_count": 103,
   "id": "f59e2be6",
   "metadata": {},
   "outputs": [
    {
     "name": "stdout",
     "output_type": "stream",
     "text": [
      "Number of data points within the 95% confidence interval: 25750\n",
      "Percentage of data points within the 95% confidence interval: 89.12%\n"
     ]
    }
   ],
   "source": [
    "# Compute the lower and upper bounds of the 90% confidence interval\n",
    "lower_bounds = y_test_pred - 1.96 * y_test_stds  # 1.645 corresponds to the 5% quantile of the standard normal distribution\n",
    "upper_bounds = y_test_pred + 1.96 * y_test_stds\n",
    "\n",
    "# Assuming true test data points are in an array called y_test_true\n",
    "# Count how many data points are within the confidence interval\n",
    "is_within_interval = np.logical_and(y_test >= lower_bounds, y_test <= upper_bounds)\n",
    "num_within_interval = np.sum(is_within_interval)\n",
    "\n",
    "# Calculate the percentage of data points within the confidence interval\n",
    "percentage_within_interval = (num_within_interval / len(y_test)) * 100\n",
    "\n",
    "# Print the results\n",
    "print(f\"Number of data points within the 95% confidence interval: {num_within_interval}\")\n",
    "print(f\"Percentage of data points within the 95% confidence interval: {percentage_within_interval:.2f}%\")"
   ]
  },
  {
   "cell_type": "markdown",
   "id": "040b6190",
   "metadata": {},
   "source": [
    "##### Variance Model n3"
   ]
  },
  {
   "cell_type": "code",
   "execution_count": 105,
   "id": "ced2f1b0",
   "metadata": {},
   "outputs": [
    {
     "name": "stdout",
     "output_type": "stream",
     "text": [
      "Model: \"sequential_13\"\n",
      "_________________________________________________________________\n",
      " Layer (type)                Output Shape              Param #   \n",
      "=================================================================\n",
      " conv1d_7 (Conv1D)           (115568, 24, 64)          384       \n",
      "                                                                 \n",
      " max_pooling1d_7 (MaxPoolin  (115568, 12, 64)          0         \n",
      " g1D)                                                            \n",
      "                                                                 \n",
      " lstm_4 (LSTM)               (115568, 64)              33024     \n",
      "                                                                 \n",
      " dense_26 (Dense)            (115568, 32)              2080      \n",
      "                                                                 \n",
      " dense_27 (Dense)            (115568, 1)               33        \n",
      "                                                                 \n",
      "=================================================================\n",
      "Total params: 35521 (138.75 KB)\n",
      "Trainable params: 35521 (138.75 KB)\n",
      "Non-trainable params: 0 (0.00 Byte)\n",
      "_________________________________________________________________\n",
      "None\n",
      "Epoch 1/50\n",
      "1626/1626 [==============================] - 19s 10ms/step - loss: 304.7033 - val_loss: 267.6154\n",
      "Epoch 2/50\n",
      "1626/1626 [==============================] - 16s 10ms/step - loss: 264.8583 - val_loss: 259.3647\n",
      "Epoch 3/50\n",
      "1626/1626 [==============================] - 16s 10ms/step - loss: 258.3313 - val_loss: 254.0906\n",
      "Epoch 4/50\n",
      "1626/1626 [==============================] - 16s 10ms/step - loss: 254.7297 - val_loss: 251.2027\n",
      "Epoch 5/50\n",
      "1626/1626 [==============================] - 16s 10ms/step - loss: 251.3865 - val_loss: 250.6670\n",
      "Epoch 6/50\n",
      "1626/1626 [==============================] - 16s 10ms/step - loss: 250.7700 - val_loss: 247.1160\n",
      "Epoch 7/50\n",
      "1626/1626 [==============================] - 16s 10ms/step - loss: 249.6047 - val_loss: 247.2632\n",
      "Epoch 8/50\n",
      "1626/1626 [==============================] - 16s 10ms/step - loss: 249.3725 - val_loss: 250.1332\n",
      "Epoch 9/50\n",
      "1626/1626 [==============================] - 16s 10ms/step - loss: 248.2823 - val_loss: 245.7742\n",
      "Epoch 10/50\n",
      "1626/1626 [==============================] - 16s 10ms/step - loss: 246.5615 - val_loss: 250.3007\n",
      "Epoch 11/50\n",
      "1626/1626 [==============================] - 16s 10ms/step - loss: 246.6806 - val_loss: 247.7604\n",
      "Epoch 12/50\n",
      "1626/1626 [==============================] - 16s 10ms/step - loss: 245.8911 - val_loss: 246.4481\n",
      "Epoch 13/50\n",
      "1626/1626 [==============================] - 16s 10ms/step - loss: 245.3067 - val_loss: 247.6535\n",
      "Epoch 14/50\n",
      "1626/1626 [==============================] - 16s 10ms/step - loss: 244.7447 - val_loss: 247.0885\n",
      "Epoch 15/50\n",
      "1626/1626 [==============================] - 16s 10ms/step - loss: 244.6976 - val_loss: 246.4957\n",
      "Epoch 16/50\n",
      "1626/1626 [==============================] - 16s 10ms/step - loss: 243.9990 - val_loss: 246.9702\n",
      "Epoch 17/50\n",
      "1626/1626 [==============================] - 16s 10ms/step - loss: 243.3966 - val_loss: 244.5006\n",
      "Epoch 18/50\n",
      "1626/1626 [==============================] - 16s 10ms/step - loss: 242.8675 - val_loss: 249.4754\n",
      "Epoch 19/50\n",
      "1626/1626 [==============================] - 16s 10ms/step - loss: 242.5284 - val_loss: 248.1326\n",
      "Epoch 20/50\n",
      "1626/1626 [==============================] - 16s 10ms/step - loss: 242.3202 - val_loss: 247.3638\n",
      "Epoch 21/50\n",
      "1626/1626 [==============================] - 16s 10ms/step - loss: 241.1866 - val_loss: 244.2595\n",
      "Epoch 22/50\n",
      "1626/1626 [==============================] - 17s 10ms/step - loss: 241.4044 - val_loss: 244.0266\n",
      "Epoch 23/50\n",
      "1626/1626 [==============================] - 16s 10ms/step - loss: 240.7426 - val_loss: 247.3487\n",
      "Epoch 24/50\n",
      "1626/1626 [==============================] - 16s 10ms/step - loss: 240.3264 - val_loss: 246.7593\n",
      "Epoch 25/50\n",
      "1626/1626 [==============================] - 16s 10ms/step - loss: 239.4374 - val_loss: 247.0930\n",
      "Epoch 26/50\n",
      "1626/1626 [==============================] - 16s 10ms/step - loss: 238.9825 - val_loss: 244.7148\n",
      "Epoch 27/50\n",
      "1626/1626 [==============================] - 18s 11ms/step - loss: 238.3239 - val_loss: 245.4881\n",
      "Epoch 28/50\n",
      "1626/1626 [==============================] - 26s 16ms/step - loss: 237.7993 - val_loss: 243.6219\n",
      "Epoch 29/50\n",
      "1626/1626 [==============================] - 18s 11ms/step - loss: 236.8001 - val_loss: 247.6467\n",
      "Epoch 30/50\n",
      "1626/1626 [==============================] - 21s 13ms/step - loss: 236.2345 - val_loss: 246.0960\n",
      "Epoch 31/50\n",
      "1626/1626 [==============================] - 21s 13ms/step - loss: 235.5172 - val_loss: 243.1071\n",
      "Epoch 32/50\n",
      "1626/1626 [==============================] - 19s 12ms/step - loss: 234.3293 - val_loss: 247.7789\n",
      "Epoch 33/50\n",
      "1626/1626 [==============================] - 20s 12ms/step - loss: 233.4207 - val_loss: 246.2558\n",
      "Epoch 34/50\n",
      "1626/1626 [==============================] - 20s 12ms/step - loss: 232.4793 - val_loss: 247.0325\n",
      "Epoch 35/50\n",
      "1626/1626 [==============================] - 19s 11ms/step - loss: 231.6069 - val_loss: 248.7462\n",
      "Epoch 36/50\n",
      "1626/1626 [==============================] - 21s 13ms/step - loss: 230.4617 - val_loss: 245.9987\n",
      "Epoch 37/50\n",
      "1626/1626 [==============================] - 23s 14ms/step - loss: 229.0100 - val_loss: 246.4791\n",
      "Epoch 38/50\n",
      "1626/1626 [==============================] - 24s 15ms/step - loss: 227.7357 - val_loss: 251.0736\n",
      "Epoch 39/50\n",
      "1626/1626 [==============================] - 19s 12ms/step - loss: 226.8538 - val_loss: 245.7191\n",
      "Epoch 40/50\n",
      "1626/1626 [==============================] - 22s 13ms/step - loss: 225.6540 - val_loss: 251.9404\n",
      "Epoch 41/50\n",
      "1626/1626 [==============================] - 23s 14ms/step - loss: 224.2168 - val_loss: 245.1610\n"
     ]
    }
   ],
   "source": [
    "X_train_reshaped = X_train\n",
    "\n",
    "variance_model = get_variance_model_v3()\n",
    "variance_model.build(X_train_reshaped.shape)\n",
    "print(variance_model.summary())\n",
    "\n",
    "# Train the model\n",
    "history_variance = variance_model.fit(\n",
    "          X_train_reshaped,\n",
    "          residuals_train,\n",
    "          batch_size = 64,\n",
    "          epochs=50, \n",
    "          validation_split=0.1,\n",
    "          callbacks=[early_stopping]\n",
    "         )"
   ]
  },
  {
   "cell_type": "code",
   "execution_count": 108,
   "id": "369ac71c",
   "metadata": {},
   "outputs": [
    {
     "name": "stdout",
     "output_type": "stream",
     "text": [
      "3612/3612 [==============================] - 14s 4ms/step\n",
      "903/903 [==============================] - 3s 4ms/step\n"
     ]
    }
   ],
   "source": [
    "# Make predictions of standard deviation on the train data\n",
    "stds_train = variance_model.predict(X_train_reshaped).ravel()\n",
    "# Make predictions of standard deviation on the test data\n",
    "y_test_stds = variance_model.predict(X_test).ravel()"
   ]
  },
  {
   "cell_type": "code",
   "execution_count": 109,
   "id": "7d286f6e",
   "metadata": {},
   "outputs": [
    {
     "name": "stdout",
     "output_type": "stream",
     "text": [
      "Number of data points within the 95% confidence interval: 25908\n",
      "Percentage of data points within the 95% confidence interval: 89.67%\n"
     ]
    }
   ],
   "source": [
    "# Compute the lower and upper bounds of the 90% confidence interval\n",
    "lower_bounds = y_test_pred - 1.96 * y_test_stds  # 1.645 corresponds to the 5% quantile of the standard normal distribution\n",
    "upper_bounds = y_test_pred + 1.96 * y_test_stds\n",
    "\n",
    "# Assuming true test data points are in an array called y_test_true\n",
    "# Count how many data points are within the confidence interval\n",
    "is_within_interval = np.logical_and(y_test >= lower_bounds, y_test <= upper_bounds)\n",
    "num_within_interval = np.sum(is_within_interval)\n",
    "\n",
    "# Calculate the percentage of data points within the confidence interval\n",
    "percentage_within_interval = (num_within_interval / len(y_test)) * 100\n",
    "\n",
    "# Print the results\n",
    "print(f\"Number of data points within the 95% confidence interval: {num_within_interval}\")\n",
    "print(f\"Percentage of data points within the 95% confidence interval: {percentage_within_interval:.2f}%\")"
   ]
  },
  {
   "cell_type": "code",
   "execution_count": 111,
   "id": "0b0bc8c6",
   "metadata": {},
   "outputs": [
    {
     "data": {
      "image/png": "[encoded data removed]",
      "text/plain": [
       "<Figure size 720x432 with 1 Axes>"
      ]
     },
     "metadata": {
      "needs_background": "light"
     },
     "output_type": "display_data"
    }
   ],
   "source": [
    "import matplotlib.pyplot as plt\n",
    "\n",
    "# Create a scatter plot\n",
    "plt.figure(figsize=(10, 6))\n",
    "plt.scatter(y_test_pred, y_test_stds, c='blue', alpha=0.5)\n",
    "\n",
    "# Set labels and title\n",
    "plt.xlabel('Predicted Values (y_test_pred)')\n",
    "plt.ylabel('Predictive Standard Deviations (y_test_stds)')\n",
    "plt.title('Change in Standard Deviations as Predicted Values Increase')\n",
    "\n",
    "# Display the plot\n",
    "plt.show()\n"
   ]
  },
  {
   "cell_type": "code",
   "execution_count": 118,
   "id": "fa93b830",
   "metadata": {},
   "outputs": [
    {
     "data": {
      "image/png": "[encoded data removed]",
      "text/plain": [
       "<Figure size 576x576 with 1 Axes>"
      ]
     },
     "metadata": {
      "needs_background": "light"
     },
     "output_type": "display_data"
    }
   ],
   "source": [
    "plt.figure(figsize=(8, 8))\n",
    "plt.scatter(y_test, y_test_pred, color='blue', s=20)\n",
    "plt.xlabel('True Value')\n",
    "plt.ylabel('Predicted Value')\n",
    "plt.title('Scatter Plot of Predicted vs. True Values')\n",
    "plt.grid(True)\n",
    "plt.show()"
   ]
  },
  {
   "cell_type": "code",
   "execution_count": null,
   "id": "cbf29ade",
   "metadata": {},
   "outputs": [],
   "source": []
  }
 ],
 "metadata": {
  "kernelspec": {
   "display_name": "Python 3",
   "language": "python",
   "name": "python3"
  },
  "language_info": {
   "codemirror_mode": {
    "name": "ipython",
    "version": 3
   },
   "file_extension": ".py",
   "mimetype": "text/x-python",
   "name": "python",
   "nbconvert_exporter": "python",
   "pygments_lexer": "ipython3",
   "version": "3.8.5"
  }
 },
 "nbformat": 4,
 "nbformat_minor": 5
}
